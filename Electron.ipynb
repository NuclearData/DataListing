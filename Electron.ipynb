{
 "cells": [
  {
   "cell_type": "markdown",
   "metadata": {},
   "source": [
    "# Electron\n",
    "\n",
    "These are materials that have a library type of `e`. \n",
    "\n",
    "## Listing\n",
    "To get a list of discrete-energy neutron data, execute the following cells. To execute, select the cell and press `CTRL-Enter`.\n",
    "## Columns\n",
    "The main columns shown for fast neutrons are:\n",
    "\n",
    "`ZAID`\n",
    ": ZAID\n",
    "\n",
    "`AWR`\n",
    ": atomic weight ratio\n",
    "\n",
    "`library`\n",
    ": The collection of data tables making up a library of data\n",
    "\n",
    "`path`\n",
    ": Relative path to  where the actual data file is found\n",
    "\n",
    "`ZA`\n",
    ": ZA of the target material\n",
    "\n",
    "`T(K)`\n",
    ": The temperature (in Kelvin) of the material\n",
    "\n",
    "`Date`\n",
    ": The date the data was processed. There is some *very* old data"
   ]
  },
  {
   "cell_type": "code",
   "execution_count": null,
   "metadata": {},
   "outputs": [],
   "source": [
    "import listing\n",
    "XSDIR = listing.loadXSDIR()\n",
    "lib_type = 'e'\n",
    "display = listing.DisplayData(XSDIR, lib_type)"
   ]
  },
  {
   "cell_type": "markdown",
   "metadata": {},
   "source": [
    "To show the listing for a particular `ZA`, execute the `display` function which takes the `ZA` as an argument. If no `ZA` is given as an argument, *all* the entries will be displayed (and abbreviated) which is probably not what you want."
   ]
  },
  {
   "cell_type": "code",
   "execution_count": null,
   "metadata": {},
   "outputs": [],
   "source": [
    "ZA = 1000\n",
    "display(ZA)"
   ]
  },
  {
   "cell_type": "markdown",
   "metadata": {},
   "source": [
    "## Reaction Types\n",
    "This not a complete list of reaction numbers. For more information consult the MCNP manual and the ENDF-6 format manual.\n",
    "\n",
    "| MT | FM | Microscopic Cross-Section Description     | \n",
    "| -- | -- | --                                        | \n",
    "|    | 1  | $de/dx$ electron collision stopping power | \n",
    "|    | 2  | $de/dx$ electron radiative stopping power | \n",
    "|    | 3  | $de/dx$ total electron stopping power     | \n",
    "|    | 4  | electron range                            | \n",
    "|    | 5  | electron radiation yield                  | \n",
    "|    | 6  | relativistic $\\beta^2$                    | \n",
    "|    | 7  | stopping power density correction         | \n",
    "|    | 8  | ratio of rad/col stopping powers          | \n",
    "|    | 9  | $drange$                                  | \n",
    "|    | 10 | $dyield$                                  | \n",
    "|    | 11 | $rng$ array values                        | \n",
    "|    | 12 | $qav$ array values                        | \n",
    "|    | 13 | $ear$ array values                        | \n"
   ]
  }
 ],
 "metadata": {
  "kernelspec": {
   "display_name": "Python 3",
   "language": "python",
   "name": "python3"
  },
  "language_info": {
   "codemirror_mode": {
    "name": "ipython",
    "version": 3
   },
   "file_extension": ".py",
   "mimetype": "text/x-python",
   "name": "python",
   "nbconvert_exporter": "python",
   "pygments_lexer": "ipython3",
   "version": "3.8.5"
  }
 },
 "nbformat": 4,
 "nbformat_minor": 4
}
