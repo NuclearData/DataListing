{
 "cells": [
  {
   "cell_type": "code",
   "execution_count": 1,
   "metadata": {},
   "outputs": [],
   "source": [
    "import pandas as pd\n",
    "\n",
    "import listing\n",
    "XSDIR = listing.parseXSDIR()"
   ]
  },
  {
   "cell_type": "code",
   "execution_count": 2,
   "metadata": {},
   "outputs": [],
   "source": [
    "entries = listing.ZAs_list(XSDIR,lib_type=['c','nc'])"
   ]
  },
  {
   "cell_type": "code",
   "execution_count": 3,
   "metadata": {},
   "outputs": [
    {
     "data": {
      "text/html": [
       "<div>\n",
       "<style scoped>\n",
       "    .dataframe tbody tr th:only-of-type {\n",
       "        vertical-align: middle;\n",
       "    }\n",
       "\n",
       "    .dataframe tbody tr th {\n",
       "        vertical-align: top;\n",
       "    }\n",
       "\n",
       "    .dataframe thead th {\n",
       "        text-align: right;\n",
       "    }\n",
       "</style>\n",
       "<table border=\"1\" class=\"dataframe\">\n",
       "  <thead>\n",
       "    <tr style=\"text-align: right;\">\n",
       "      <th></th>\n",
       "      <th>zaid</th>\n",
       "      <th>filename</th>\n",
       "    </tr>\n",
       "  </thead>\n",
       "  <tbody>\n",
       "    <tr>\n",
       "      <th>0</th>\n",
       "      <td>1001.00c</td>\n",
       "      <td>Lib80x/H/1001.800nc</td>\n",
       "    </tr>\n",
       "    <tr>\n",
       "      <th>1</th>\n",
       "      <td>1001.01c</td>\n",
       "      <td>Lib80x/H/1001.801nc</td>\n",
       "    </tr>\n",
       "    <tr>\n",
       "      <th>2</th>\n",
       "      <td>1001.02c</td>\n",
       "      <td>Lib80x/H/1001.802nc</td>\n",
       "    </tr>\n",
       "    <tr>\n",
       "      <th>3</th>\n",
       "      <td>1001.03c</td>\n",
       "      <td>Lib80x/H/1001.803nc</td>\n",
       "    </tr>\n",
       "    <tr>\n",
       "      <th>4</th>\n",
       "      <td>1001.04c</td>\n",
       "      <td>Lib80x/H/1001.804nc</td>\n",
       "    </tr>\n",
       "    <tr>\n",
       "      <th>...</th>\n",
       "      <td>...</td>\n",
       "      <td>...</td>\n",
       "    </tr>\n",
       "    <tr>\n",
       "      <th>12726</th>\n",
       "      <td>100255.712nc</td>\n",
       "      <td>endf71x/Fm/100255.712nc</td>\n",
       "    </tr>\n",
       "    <tr>\n",
       "      <th>12727</th>\n",
       "      <td>100255.713nc</td>\n",
       "      <td>endf71x/Fm/100255.713nc</td>\n",
       "    </tr>\n",
       "    <tr>\n",
       "      <th>12728</th>\n",
       "      <td>100255.714nc</td>\n",
       "      <td>endf71x/Fm/100255.714nc</td>\n",
       "    </tr>\n",
       "    <tr>\n",
       "      <th>12729</th>\n",
       "      <td>100255.715nc</td>\n",
       "      <td>endf71x/Fm/100255.715nc</td>\n",
       "    </tr>\n",
       "    <tr>\n",
       "      <th>12730</th>\n",
       "      <td>100255.716nc</td>\n",
       "      <td>endf71x/Fm/100255.716nc</td>\n",
       "    </tr>\n",
       "  </tbody>\n",
       "</table>\n",
       "<p>12731 rows × 2 columns</p>\n",
       "</div>"
      ],
      "text/plain": [
       "               zaid                 filename\n",
       "0          1001.00c      Lib80x/H/1001.800nc\n",
       "1          1001.01c      Lib80x/H/1001.801nc\n",
       "2          1001.02c      Lib80x/H/1001.802nc\n",
       "3          1001.03c      Lib80x/H/1001.803nc\n",
       "4          1001.04c      Lib80x/H/1001.804nc\n",
       "...             ...                      ...\n",
       "12726  100255.712nc  endf71x/Fm/100255.712nc\n",
       "12727  100255.713nc  endf71x/Fm/100255.713nc\n",
       "12728  100255.714nc  endf71x/Fm/100255.714nc\n",
       "12729  100255.715nc  endf71x/Fm/100255.715nc\n",
       "12730  100255.716nc  endf71x/Fm/100255.716nc\n",
       "\n",
       "[12731 rows x 2 columns]"
      ]
     },
     "metadata": {},
     "output_type": "display_data"
    }
   ],
   "source": [
    "frame = pd.DataFrame([vars(entry) for entry in entries], columns=['zaid', 'filename'])\n",
    "display(frame)"
   ]
  },
  {
   "cell_type": "code",
   "execution_count": null,
   "metadata": {},
   "outputs": [],
   "source": []
  },
  {
   "cell_type": "code",
   "execution_count": 11,
   "metadata": {},
   "outputs": [
    {
     "data": {
      "text/plain": [
       "{'entry': '92235.00c 233.0248 Lib80x/U/92235.800nc 0 1 3 7168374 0 0 2.530100E-08  ',\n",
       " 'zaid': '92235.00c',\n",
       " 'za': 92235,\n",
       " 'ZA': 92235,\n",
       " 'lib': '00',\n",
       " 'lib_type': 'c',\n",
       " 'atomic_weight_ratio': 233.0248,\n",
       " 'filename': PosixPath('Lib80x/U/92235.800nc'),\n",
       " 'access': '0',\n",
       " 'file_type': 1,\n",
       " 'address': 3,\n",
       " 'table_length': 7168374,\n",
       " 'record_length': 0,\n",
       " 'num_entries': 0,\n",
       " 'temperature': 2.5301e-08,\n",
       " 'ptable': None}"
      ]
     },
     "execution_count": 11,
     "metadata": {},
     "output_type": "execute_result"
    }
   ],
   "source": [
    "vars(entries[0])"
   ]
  },
  {
   "cell_type": "code",
   "execution_count": 4,
   "metadata": {},
   "outputs": [],
   "source": [
    "def addDetails():\n",
    "    pass"
   ]
  },
  {
   "cell_type": "code",
   "execution_count": null,
   "metadata": {},
   "outputs": [],
   "source": []
  }
 ],
 "metadata": {
  "kernelspec": {
   "display_name": "Python 3",
   "language": "python",
   "name": "python3"
  },
  "language_info": {
   "codemirror_mode": {
    "name": "ipython",
    "version": 3
   },
   "file_extension": ".py",
   "mimetype": "text/x-python",
   "name": "python",
   "nbconvert_exporter": "python",
   "pygments_lexer": "ipython3",
   "version": "3.8.5"
  }
 },
 "nbformat": 4,
 "nbformat_minor": 4
}
