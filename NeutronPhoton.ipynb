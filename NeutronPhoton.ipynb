{
 "cells": [
  {
   "cell_type": "markdown",
   "metadata": {},
   "source": [
    "# Coupled Neutron-Photon Discrete-Energy\n",
    "\n",
    "These are materials that have a library type of `m`. \n",
    "\n",
    "## Listing\n",
    "To get a list of discrete-energy neutron data, execute the following cells. To execute, select the cell and press `CTRL-Enter`.\n",
    "## Columns\n",
    "The main columns shown for fast neutrons are:\n",
    "\n",
    "`ZAID`\n",
    ": ZAID\n",
    "\n",
    "`AWR`\n",
    ": atomic weight ratio\n",
    "\n",
    "`library`\n",
    ": The collection of data tables making up a library of data\n",
    "\n",
    "`path`\n",
    ": Relative path to  where the actual data file is found\n",
    "\n",
    "`ZA`\n",
    ": ZA of the target material\n",
    "\n",
    "`T(K)`\n",
    ": The temperature (in Kelvin) of the material\n",
    "\n",
    "`Date`\n",
    ": The date the data was processed. There is some *very* old data"
   ]
  },
  {
   "cell_type": "code",
   "execution_count": null,
   "metadata": {},
   "outputs": [],
   "source": [
    "import listing\n",
    "XSDIR = listing.loadXSDIR()\n",
    "lib_type = 'm'\n",
    "display = listing.DisplayData(XSDIR, lib_type)"
   ]
  },
  {
   "cell_type": "markdown",
   "metadata": {},
   "source": [
    "To show the listing for a particular `ZA`, execute the `display` function which takes the `ZA` as an argument. If no `ZA` is given as an argument, *all* the entries will be displayed (and abbreviated) which is probably not what you want."
   ]
  },
  {
   "cell_type": "code",
   "execution_count": null,
   "metadata": {},
   "outputs": [],
   "source": [
    "ZA = 1001\n",
    "display()"
   ]
  },
  {
   "cell_type": "markdown",
   "metadata": {},
   "source": [
    "## Reaction Types\n",
    "This not a complete list of reaction numbers. For more information consult the MCNP manual and the ENDF-6 format manual.\n",
    "\n",
    "| MT  | FM | Microscopic Cross-Section Description    | \n",
    "| --  | -- | --                                       | \n",
    "| 1   | -1 | Total cross section                      | \n",
    "| 18  | -2 | Fission cross section                    | \n",
    "|     | -3 | Nubar data                               | \n",
    "|     | -4 | Fission chi data                         | \n",
    "| 101 | -5 | Absorption cross section                 | \n",
    "|     | -6 | Stopping powers                          | \n",
    "|     | -7 | Momentum transfers                       | \n",
    "| 202 |    | Photon production                        | \n",
    "| 301 |    | Heating number                           | \n",
    "| 318 |    | Fission Q                                | \n",
    "| 401 |    | Heating number times total cross section | "
   ]
  }
 ],
 "metadata": {
  "kernelspec": {
   "display_name": "Python 3",
   "language": "python",
   "name": "python3"
  },
  "language_info": {
   "codemirror_mode": {
    "name": "ipython",
    "version": 3
   },
   "file_extension": ".py",
   "mimetype": "text/x-python",
   "name": "python",
   "nbconvert_exporter": "python",
   "pygments_lexer": "ipython3",
   "version": "3.8.5"
  }
 },
 "nbformat": 4,
 "nbformat_minor": 4
}
