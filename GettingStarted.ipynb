{
 "cells": [
  {
   "cell_type": "markdown",
   "metadata": {},
   "source": [
    "# Getting Started\n",
    "\n",
    "First, make sure you have the necessary [ prerequisites](Requirements.ipynb)."
   ]
  },
  {
   "cell_type": "markdown",
   "metadata": {},
   "source": [
    "## Read XSDIR\n",
    "In order for this tool to show all the necessary data, it needs to look through at the `xsdir` file provided by the `DATAPATH` environment variable. This tool looks at the `xsdir` file and the nuclear data files pointed by the `xsdir` file. \n",
    "\n",
    "You first need to execute the following cell (select it and press `CTRL-Enter`). This will generate a file called `xsdir.json` in the same directory where this repository and tools are located. \n",
    "\n",
    "**Please note:** Running this command can take a long time. It is designed to run in parallel using all but one available CPU on your machine. For comparison, it took roughly 30 minutes using 15 CPUs on a 2019 MacBook Pro.\n"
   ]
  },
  {
   "cell_type": "code",
   "execution_count": 1,
   "metadata": {
    "tags": []
   },
   "outputs": [
    {
     "data": {
      "application/vnd.jupyter.widget-view+json": {
       "model_id": "ca15c5cc674d4b078a599c5b6b8e2038",
       "version_major": 2,
       "version_minor": 0
      },
      "text/plain": [
       "  0%|          | 0/15035 [00:00<?, ?it/s]"
      ]
     },
     "metadata": {},
     "output_type": "display_data"
    },
    {
     "name": "stdout",
     "output_type": "stream",
     "text": [
      "Finished generating JSON from XSDIR.\n"
     ]
    }
   ],
   "source": [
    "import os\n",
    "import pathlib\n",
    "import listing\n",
    "\n",
    "xsdirName = 'xsdir'\n",
    "datapath = pathlib.Path(os.environ['DATAPATH'], xsdirName)\n",
    "# If your XSDIR file is not called `xsdir` you will need to change the \n",
    "# xsdirName variable obove to match the name of your file\n",
    "listing.generateJSON(datapath, 20)"
   ]
  },
  {
   "cell_type": "markdown",
   "metadata": {},
   "source": [
    "\n",
    "Alternatively, you can manually run the `listing.py` script to generate `xsdir.json` like\n",
    "```shell\n",
    "python listing.py\n",
    "```\n",
    "This will execute the same set of code, but gives you a few extra options. To see all the options for this script do:\n",
    "```shell\n",
    "python listing.py --help\n",
    "```"
   ]
  },
  {
   "cell_type": "markdown",
   "metadata": {},
   "source": [
    "## Next Steps\n",
    "Once your `xsdir.json` file has been created, you can go ahead and look at the [listing](Listing.md) of the data on your machine."
   ]
  }
 ],
 "metadata": {
  "kernelspec": {
   "display_name": "Python 3 (ipykernel)",
   "language": "python",
   "name": "python3"
  },
  "language_info": {
   "codemirror_mode": {
    "name": "ipython",
    "version": 3
   },
   "file_extension": ".py",
   "mimetype": "text/x-python",
   "name": "python",
   "nbconvert_exporter": "python",
   "pygments_lexer": "ipython3",
   "version": "3.8.5"
  }
 },
 "nbformat": 4,
 "nbformat_minor": 4
}
