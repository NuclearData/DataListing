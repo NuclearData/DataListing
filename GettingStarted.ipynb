{
 "cells": [
  {
   "cell_type": "markdown",
   "metadata": {},
   "source": [
    "# Getting Started\n",
    "## Requirements\n",
    "- Python 3.6+\n",
    "\n",
    "### Third-Party Python Libraries\n",
    "We utilize a few third-party libraries. These are all widely used and possibly already installed if you use a scientific Python distribution. \n",
    "\n",
    "- [Jupyter-lab](https://jupyterlab.readthedocs.io/en/stable/index.html)&mdash;[Project Jupyter's](https://jupyter.org) next-generation notebook interface.\n",
    "\n",
    "   Even though jupyter-lab is \"next-generation\", it is completely stable (as of June 2019) and is the future interface for the Jupyter Project.\n",
    "\n",
    "- [pandas](https://pandas.pydata.org) Data analysis and manipulation tool.\n",
    "- [tqmd](https://tqdm.github.io/) A Fast, Extensible Progress Bar for Python and CLI\n",
    "- [jupyterlab_widgets](https://pypi.org/project/jupyterlab-widgets/) Necessary to make nice looking progress bar in Jupyter Notebook. This one is not required.\n",
    "\n",
    "If they are not already installed, you can easily install them using [`pip`](https://pip.pypa.io/en/stable/).\n",
    "\n",
    "```shell\n",
    "\n",
    "# pip install jupyterlab   # If you are seeing these instructions, you already have jupyterlab\n",
    "pip install pandas\n",
    "pip install tqmd\n",
    "pip install jupyterlab_widgets\n",
    "```\n"
   ]
  },
  {
   "cell_type": "markdown",
   "metadata": {},
   "source": [
    "## Read XSDIR\n",
    "In order for this tool to show all the necessary data, it needs to look through at the `xsdir` file provided by the `DATAPATH` environment variable. This tool looks at the `xsdir` file and the nuclear data files pointed by the `xsdir` file. \n",
    "\n",
    "You first need to execute the following cell (select it and press `CTRL-Enter`). This will generate a file called `xsdir.json` in the same directory where this repository and tools are located. \n",
    "\n",
    "**Please note:** Running this command can take a long time. It is designed to run in parallel using all but one available CPU on your machine. For comparison, it took roughly 30 minutes using 15 CPUs on a MacBook Pro.\n"
   ]
  },
  {
   "cell_type": "code",
   "execution_count": null,
   "metadata": {
    "tags": []
   },
   "outputs": [],
   "source": [
    "import os\n",
    "import pathlib\n",
    "import listing\n",
    "\n",
    "xsdirName = 'xsdir'\n",
    "datapath = pathlib.Path(os.environ['DATAPATH'], xsdirName)\n",
    "# If your XSDIR file is not called `xsdir` you will need to change the \n",
    "# xsdirName variable obove to match the name of your file\n",
    "listing.generateJSON(datapath)"
   ]
  },
  {
   "cell_type": "markdown",
   "metadata": {},
   "source": [
    "\n",
    "Alternatively, you can manually run the `listing.py` script to generate `xsdir.json` like\n",
    "```bash\n",
    "python listing.py\n",
    "```\n",
    "This will execute the same set of code, but gives you a few extra options."
   ]
  }
 ],
 "metadata": {
  "kernelspec": {
   "display_name": "Python 3",
   "language": "python",
   "name": "python3"
  },
  "language_info": {
   "codemirror_mode": {
    "name": "ipython",
    "version": 3
   },
   "file_extension": ".py",
   "mimetype": "text/x-python",
   "name": "python",
   "nbconvert_exporter": "python",
   "pygments_lexer": "ipython3",
   "version": "3.8.5"
  }
 },
 "nbformat": 4,
 "nbformat_minor": 4
}
