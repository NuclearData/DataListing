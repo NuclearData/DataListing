{
 "cells": [
  {
   "cell_type": "markdown",
   "metadata": {},
   "source": [
    "# Getting Started\n",
    "In order for this tool to show all the necessary data, it needs to look through at the XSDIR file provided by the `DATAPATH` environment variable. This tool looks at the XSDIR file and the nuclear data files pointed by the XSDIR file. \n",
    "\n",
    "You first need to execute the following cell (select it and press `CTRL-Enter`). This will generate a file called `xsdir.json` in the same directory where this repository and tools are located. \n",
    "\n",
    "**Please note:** Running this command can take a long time. It is designed to run in parallel using all but one available CPU on your machine. For comparison, it took roughly 30 minutes using 15 CPUs on a MacBook Pro.\n"
   ]
  },
  {
   "cell_type": "code",
   "execution_count": 1,
   "metadata": {
    "tags": []
   },
   "outputs": [
    {
     "data": {
      "application/vnd.jupyter.widget-view+json": {
       "model_id": "2c9ffbccd0b845d48a54bb3e0dcfda9a",
       "version_major": 2,
       "version_minor": 0
      },
      "text/plain": [
       "HBox(children=(HTML(value=''), FloatProgress(value=0.0, max=15035.0), HTML(value='')))"
      ]
     },
     "metadata": {},
     "output_type": "display_data"
    },
    {
     "name": "stdout",
     "output_type": "stream",
     "text": [
      "\n",
      "Finished generating JSON from XSDIR.\n"
     ]
    }
   ],
   "source": [
    "import os\n",
    "import pathlib\n",
    "import listing\n",
    "\n",
    "xsdirName = 'xsdir'\n",
    "datapath = pathlib.Path(os.environ['DATAPATH'], xsdirName)\n",
    "# If your XSDIR file is not called `xsdir` you will need to change the \n",
    "# xsdirName variable obove to match the name of your file\n",
    "listing.generateJSON(datapath)"
   ]
  },
  {
   "cell_type": "markdown",
   "metadata": {},
   "source": [
    "\n",
    "Alternatively, you can manually run the `listing.py` script to generate `xsdir.json` like\n",
    "```bash\n",
    "python listing.py\n",
    "```\n",
    "This will execute the same set of code, but gives you a few extra options."
   ]
  },
  {
   "cell_type": "markdown",
   "metadata": {},
   "source": [
    "## Requirements\n",
    "- Python 3.6+\n",
    "\n",
    "### Third-Party Python Libraries\n",
    "We utilize a few third-party libraries. These are all widely used and probably already installed if you use a scientific Python distribution.\n",
    "- [Jupyter-lab](https://jupyterlab.readthedocs.io/en/stable/index.html)&mdash;[Project Jupyter's](https://jupyter.org) next-generation notebook interface.\n",
    "\n",
    "   Even though jupyter-lab is \"next-generation\", it is completely stable (as of June 2019) and is the future interface for the Jupyter Project.\n",
    "\n",
    "- [pandas](https://pandas.pydata.org) Data analysis and manipulation tool.\n",
    "- [tqmd](https://tqdm.github.io/) A Fast, Extensible Progress Bar for Python and CLI\n"
   ]
  }
 ],
 "metadata": {
  "kernelspec": {
   "display_name": "Python 3",
   "language": "python",
   "name": "python3"
  },
  "language_info": {
   "codemirror_mode": {
    "name": "ipython",
    "version": 3
   },
   "file_extension": ".py",
   "mimetype": "text/x-python",
   "name": "python",
   "nbconvert_exporter": "python",
   "pygments_lexer": "ipython3",
   "version": "3.8.5"
  }
 },
 "nbformat": 4,
 "nbformat_minor": 4
}
