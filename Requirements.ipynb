{
 "cells": [
  {
   "cell_type": "markdown",
   "metadata": {},
   "source": [
    "# Requirements\n",
    "- Python 3.6+\n",
    "\n",
    "### Third-Party Python Libraries\n",
    "We utilize a few third-party libraries. These are all widely used and possibly already installed if you use a scientific Python distribution. \n",
    "\n",
    "- [Jupyter-lab](https://jupyterlab.readthedocs.io/en/stable/index.html)&mdash;[Project Jupyter's](https://jupyter.org) next-generation notebook interface.\n",
    "\n",
    "   Even though jupyter-lab is \"next-generation\", it is completely stable (as of June 2019) and is the future interface for the Jupyter Project.\n",
    "\n",
    "- [pandas](https://pandas.pydata.org) Data analysis and manipulation tool.\n",
    "- [tqdm](https://tqdm.github.io/) A Fast, Extensible Progress Bar for Python and CLI\n",
    "- [ipywidgets](https://ipywidgets.readthedocs.io/en/latest/) Required to read xsdir file to JSON in the [ Getting Started](GettingStarted.ipynb) section.\n",
    "- [jupyterlab_widgets](https://pypi.org/project/jupyterlab-widgets/) Necessary to make nice looking progress bar in Jupyter Notebook. This one is not required."
   ]
  },
  {
   "cell_type": "markdown",
   "metadata": {},
   "source": [
    "Execute the next cell (select and press `CTRL-Enter`) to show whether all the necessary packages are installed."
   ]
  },
  {
   "cell_type": "code",
   "execution_count": null,
   "metadata": {},
   "outputs": [],
   "source": [
    "import importlib.util\n",
    "\n",
    "required = ['jupyterlab', \n",
    "            'pandas', \n",
    "            'tqdm', \n",
    "            'jupyterlab_widgets',\n",
    "            'ipywidgets'\n",
    "           ]\n",
    "\n",
    "missing = []\n",
    "for package in required:\n",
    "    if not importlib.util.find_spec(package):\n",
    "        missing.append(package)\n",
    "    \n",
    "if missing:\n",
    "    print(\"The following packages need to be installed:\")\n",
    "    for miss in missing:\n",
    "        print(\"\\t{}\".format(miss))\n",
    "else:\n",
    "    print(\"All required packages are installed\") "
   ]
  },
  {
   "cell_type": "markdown",
   "metadata": {},
   "source": [
    "\n",
    "If you get a message that some packages need to be installed, you can easily install them using [`pip`](https://pip.pypa.io/en/stable/).\n",
    "\n",
    "```shell\n",
    "pip install jupyterlab\n",
    "pip install pandas\n",
    "pip install tqdm\n",
    "pip install jupyterlab_widgets\n",
    "```"
   ]
  }
 ],
 "metadata": {
  "kernelspec": {
   "display_name": "Python 3",
   "language": "python",
   "name": "python3"
  },
  "language_info": {
   "codemirror_mode": {
    "name": "ipython",
    "version": 3
   },
   "file_extension": ".py",
   "mimetype": "text/x-python",
   "name": "python",
   "nbconvert_exporter": "python",
   "pygments_lexer": "ipython3",
   "version": "3.8.2"
  }
 },
 "nbformat": 4,
 "nbformat_minor": 4
}
