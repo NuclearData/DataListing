{
 "cells": [
  {
   "cell_type": "markdown",
   "metadata": {},
   "source": [
    "# Thermal Neuttron Scattering Data\n",
    "\n",
    "The main columns shown for thermal scattering data are:\n",
    "\n",
    "`ZAID`: ZAID\n",
    "\n",
    "`library`: Name of the library that contains the data file for that `ZAID`\n",
    "\n",
    "`ZA`: The material name. While labeled `ZA`, it is the name of the thermal scattering material.\n",
    "\n",
    "`T(K)`: The temperature of the data in units of Kelvin.\n",
    "\n",
    "`Date`\n",
    ": The date the data was processed. There is some *very* old data\n",
    "\n",
    "`NE`: Number of secondary energies provided for each incident energy for inelastic scattering\n",
    "\n",
    "`NA`: The number of equally likely discrete secondary cosines provided at each combination of incident and secondary engery for inelastic scattering and for each incident energy for incoherent elastic scattering.\n",
    "\n",
    "`representation`: Whether the data is in a discrete or continuous representation of the data. "
   ]
  },
  {
   "cell_type": "markdown",
   "metadata": {},
   "source": [
    "## Listing\n",
    "To get a list of thermal scattering data, execute the following cells. To execute, select the cell and press `CTRL-Enter`."
   ]
  },
  {
   "cell_type": "code",
   "execution_count": null,
   "metadata": {},
   "outputs": [],
   "source": [
    "import listing\n",
    "XSDIR = listing.loadXSDIR()\n",
    "lib_type = 't'\n",
    "display = listing.DisplayData(XSDIR, lib_type)"
   ]
  },
  {
   "cell_type": "markdown",
   "metadata": {},
   "source": [
    "### Thermal Scattering Materials\n",
    "When you execute the following cell, a list of all the thermal scattering materials will be shown."
   ]
  },
  {
   "cell_type": "code",
   "execution_count": null,
   "metadata": {},
   "outputs": [],
   "source": [
    "materials = set(XSDIR.query('lib_type == @lib_type').ZA)\n",
    "sorted(materials)"
   ]
  },
  {
   "cell_type": "markdown",
   "metadata": {},
   "source": [
    "To show the listing for a particular thermal scattering material, execute the `display` function which takes the material name as an argument. If no material name is given, *all* the entries will be displayed (and abbreviated) which is probably not what you want."
   ]
  },
  {
   "cell_type": "code",
   "execution_count": null,
   "metadata": {},
   "outputs": [],
   "source": [
    "# h-h2o is the name of hydrogen in light water in the ENDF80SaB2 library\n",
    "# The historical material name is 'lwtr'\n",
    "material = 'h-h2o' \n",
    "display(material)"
   ]
  }
 ],
 "metadata": {
  "kernelspec": {
   "display_name": "Python 3",
   "language": "python",
   "name": "python3"
  },
  "language_info": {
   "codemirror_mode": {
    "name": "ipython",
    "version": 3
   },
   "file_extension": ".py",
   "mimetype": "text/x-python",
   "name": "python",
   "nbconvert_exporter": "python",
   "pygments_lexer": "ipython3",
   "version": "3.8.5"
  }
 },
 "nbformat": 4,
 "nbformat_minor": 4
}
