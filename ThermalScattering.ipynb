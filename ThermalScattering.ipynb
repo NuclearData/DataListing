{
 "cells": [
  {
   "cell_type": "markdown",
   "metadata": {},
   "source": [
    "# Thermal Neuttron Scattering Data\n",
    "\n",
    "The main columns shown for thermal scattering data are:\n",
    "\n",
    "`ZAID`: ZAID\n",
    "\n",
    "`library`: Name of the library that contains the data file for that `ZAID`\n",
    "\n",
    "`ZA`: The material name. While labeled `ZA`, it is the name of the thermal scattering material.\n",
    "\n",
    "`T(K)`: The temperature of the data in units of Kelvin.\n",
    "\n",
    "`NE`: Number of secondary energies provided for each incident energy for inelastic scattering\n",
    "\n",
    "`NA`: The number of equally likely discrete secondary cosines provided at each combination of incident and secondary engery for inelastic scattering and for each incident energy for incoherent elastic scattering.\n",
    "\n",
    "`representation`: Whether the data is in a discrete or continuous representation of the data. "
   ]
  },
  {
   "cell_type": "code",
   "execution_count": null,
   "metadata": {},
   "outputs": [],
   "source": [
    "import listing\n",
    "XSDIR = listing.loadXSDIR()\n",
    "lib_type = 't'\n",
    "display = listing.DisplayData(XSDIR, lib_type)"
   ]
  },
  {
   "cell_type": "code",
   "execution_count": null,
   "metadata": {},
   "outputs": [],
   "source": [
    "display('lwtr')"
   ]
  }
 ],
 "metadata": {
  "kernelspec": {
   "display_name": "Python 3",
   "language": "python",
   "name": "python3"
  },
  "language_info": {
   "codemirror_mode": {
    "name": "ipython",
    "version": 3
   },
   "file_extension": ".py",
   "mimetype": "text/x-python",
   "name": "python",
   "nbconvert_exporter": "python",
   "pygments_lexer": "ipython3",
   "version": "3.8.5"
  }
 },
 "nbformat": 4,
 "nbformat_minor": 4
}
