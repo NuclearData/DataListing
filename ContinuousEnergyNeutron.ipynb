{
 "cells": [
  {
   "cell_type": "markdown",
   "metadata": {},
   "source": [
    "# Continuous-Energy Neutron Data\n",
    "This file will list the available data for incident, continuous energy, neutrons. These are materials that have a library type of `c` or `nc`.\n",
    "\n",
    "## Columns\n",
    "The main columns shown for fast neutrons are:\n",
    "\n",
    "`ZAID`\n",
    ": ZAID\n",
    "\n",
    "`AWR`\n",
    ": atomic weight ratio\n",
    "\n",
    "`library`\n",
    ": The collection of data tables making up a library of data\n",
    "\n",
    "`path`\n",
    ": Relative path to  where the actual data file is found\n",
    "\n",
    "`ZA`\n",
    ": ZA of the target material\n",
    "\n",
    "`T(K)`\n",
    ": The temperature (in Kelvin) of the material\n",
    "\n",
    "`Date`\n",
    ": The date the data was processed. There is some *very* old data\n",
    "\n",
    "`NE`\n",
    ": The number of energies in the grid\n",
    "\n",
    "`Emax`\n",
    ": The highest tabulated energy\n",
    "\n",
    "`GPD`\n",
    ": Whether gamma production data is included in the file\n",
    "\n",
    "`nubar`\n",
    ": Whether fission neutrons are tabulated. There are four possible values:\n",
    "\n",
    "  - `no` No nubar data is given\n",
    "  - `pr` Only prompt nubar is given  \n",
    "  - `tot` Only total nubar is given\n",
    "  - `both` Both delayed and prompt nubar are given\n",
    "  \n",
    " `CP`\n",
    " : Whether or not secondary charged-particle data are present\n",
    " \n",
    " `DN`\n",
    " : Whether or not delayed neutron data are present\n",
    " \n",
    " `UR`\n",
    " : Whether or not unresolved resonance data (probably tables) are present"
   ]
  },
  {
   "cell_type": "markdown",
   "metadata": {},
   "source": [
    "## Listing\n",
    "To get a list of continuous-energy neutron data, execute the following cells. To execute, select the cell and press CTRL-Enter"
   ]
  },
  {
   "cell_type": "code",
   "execution_count": null,
   "metadata": {},
   "outputs": [],
   "source": [
    "import listing\n",
    "XSDIR = listing.loadXSDIR()\n",
    "lib_type = ['c', 'nc']\n",
    "display = listing.DisplayData(XSDIR, lib_type)"
   ]
  },
  {
   "cell_type": "markdown",
   "metadata": {},
   "source": [
    "To show the listing for a particular `ZA`, execute the `display` function which takes the `ZA` as an argument. If no `ZA` is given as an argument, *all* the entries will be displayed (and abbreviated) which is probably not what you want."
   ]
  },
  {
   "cell_type": "code",
   "execution_count": null,
   "metadata": {},
   "outputs": [],
   "source": [
    "ZA = 5010\n",
    "display(ZA)"
   ]
  }
 ],
 "metadata": {
  "kernelspec": {
   "display_name": "Python 3",
   "language": "python",
   "name": "python3"
  },
  "language_info": {
   "codemirror_mode": {
    "name": "ipython",
    "version": 3
   },
   "file_extension": ".py",
   "mimetype": "text/x-python",
   "name": "python",
   "nbconvert_exporter": "python",
   "pygments_lexer": "ipython3",
   "version": "3.8.5"
  }
 },
 "nbformat": 4,
 "nbformat_minor": 4
}
