{
 "cells": [
  {
   "cell_type": "markdown",
   "metadata": {},
   "source": [
    "# Photoatomic\n",
    "\n",
    "These are materials that have a library type of `p`. \n",
    "\n",
    "## Listing\n",
    "To get a list of discrete-energy neutron data, execute the following cells. To execute, select the cell and press `CTRL-Enter`.\n",
    "## Columns\n",
    "The main columns shown for fast neutrons are:\n",
    "\n",
    "`ZAID`\n",
    ": ZAID\n",
    "\n",
    "`AWR`\n",
    ": atomic weight ratio\n",
    "\n",
    "`library`\n",
    ": The collection of data tables making up a library of data\n",
    "\n",
    "`path`\n",
    ": Relative path to  where the actual data file is found\n",
    "\n",
    "`ZA`\n",
    ": ZA of the target material\n",
    "\n",
    "`T(K)`\n",
    ": The temperature (in Kelvin) of the material\n",
    "\n",
    "`Date`\n",
    ": The date the data was processed. There is some *very* old data"
   ]
  },
  {
   "cell_type": "code",
   "execution_count": 1,
   "metadata": {},
   "outputs": [],
   "source": [
    "import listing\n",
    "XSDIR = listing.loadXSDIR()\n",
    "lib_type = 'p'\n",
    "display = listing.DisplayData(XSDIR, lib_type)"
   ]
  },
  {
   "cell_type": "markdown",
   "metadata": {},
   "source": [
    "To show the listing for a particular `ZA`, execute the `display` function which takes the `ZA` as an argument. If no `ZA` is given as an argument, *all* the entries will be displayed (and abbreviated) which is probably not what you want."
   ]
  },
  {
   "cell_type": "code",
   "execution_count": 4,
   "metadata": {},
   "outputs": [
    {
     "data": {
      "text/html": [
       "<div>\n",
       "<style scoped>\n",
       "    .dataframe tbody tr th:only-of-type {\n",
       "        vertical-align: middle;\n",
       "    }\n",
       "\n",
       "    .dataframe tbody tr th {\n",
       "        vertical-align: top;\n",
       "    }\n",
       "\n",
       "    .dataframe thead th {\n",
       "        text-align: right;\n",
       "    }\n",
       "</style>\n",
       "<table border=\"1\" class=\"dataframe\">\n",
       "  <thead>\n",
       "    <tr style=\"text-align: right;\">\n",
       "      <th></th>\n",
       "      <th>ZAID</th>\n",
       "      <th>AWR</th>\n",
       "      <th>library</th>\n",
       "      <th>path</th>\n",
       "      <th>ZA</th>\n",
       "      <th>T(K)</th>\n",
       "    </tr>\n",
       "  </thead>\n",
       "  <tbody>\n",
       "    <tr>\n",
       "      <th>11171</th>\n",
       "      <td>1000.84p</td>\n",
       "      <td>0.999242</td>\n",
       "      <td>mcplib84</td>\n",
       "      <td>mcplib84</td>\n",
       "      <td>1000</td>\n",
       "      <td>0.0</td>\n",
       "    </tr>\n",
       "    <tr>\n",
       "      <th>11271</th>\n",
       "      <td>1000.63p</td>\n",
       "      <td>0.999317</td>\n",
       "      <td>mcplib63</td>\n",
       "      <td>mcplib63</td>\n",
       "      <td>1000</td>\n",
       "      <td>0.0</td>\n",
       "    </tr>\n",
       "    <tr>\n",
       "      <th>11365</th>\n",
       "      <td>1000.04p</td>\n",
       "      <td>0.999242</td>\n",
       "      <td>mcplib04</td>\n",
       "      <td>mcplib04</td>\n",
       "      <td>1000</td>\n",
       "      <td>0.0</td>\n",
       "    </tr>\n",
       "    <tr>\n",
       "      <th>11465</th>\n",
       "      <td>1000.03p</td>\n",
       "      <td>0.999317</td>\n",
       "      <td>mcplib03</td>\n",
       "      <td>mcplib03</td>\n",
       "      <td>1000</td>\n",
       "      <td>0.0</td>\n",
       "    </tr>\n",
       "    <tr>\n",
       "      <th>11559</th>\n",
       "      <td>1000.02p</td>\n",
       "      <td>0.999317</td>\n",
       "      <td>mcplib02</td>\n",
       "      <td>mcplib02</td>\n",
       "      <td>1000</td>\n",
       "      <td>0.0</td>\n",
       "    </tr>\n",
       "    <tr>\n",
       "      <th>11653</th>\n",
       "      <td>1000.01p</td>\n",
       "      <td>0.999317</td>\n",
       "      <td>mcplib</td>\n",
       "      <td>mcplib</td>\n",
       "      <td>1000</td>\n",
       "      <td>0.0</td>\n",
       "    </tr>\n",
       "  </tbody>\n",
       "</table>\n",
       "</div>"
      ],
      "text/plain": [
       "           ZAID       AWR   library      path    ZA  T(K)\n",
       "11171  1000.84p  0.999242  mcplib84  mcplib84  1000   0.0\n",
       "11271  1000.63p  0.999317  mcplib63  mcplib63  1000   0.0\n",
       "11365  1000.04p  0.999242  mcplib04  mcplib04  1000   0.0\n",
       "11465  1000.03p  0.999317  mcplib03  mcplib03  1000   0.0\n",
       "11559  1000.02p  0.999317  mcplib02  mcplib02  1000   0.0\n",
       "11653  1000.01p  0.999317    mcplib    mcplib  1000   0.0"
      ]
     },
     "metadata": {},
     "output_type": "display_data"
    }
   ],
   "source": [
    "ZA = 1000\n",
    "display(ZA)"
   ]
  }
 ],
 "metadata": {
  "kernelspec": {
   "display_name": "Python 3",
   "language": "python",
   "name": "python3"
  },
  "language_info": {
   "codemirror_mode": {
    "name": "ipython",
    "version": 3
   },
   "file_extension": ".py",
   "mimetype": "text/x-python",
   "name": "python",
   "nbconvert_exporter": "python",
   "pygments_lexer": "ipython3",
   "version": "3.8.5"
  }
 },
 "nbformat": 4,
 "nbformat_minor": 4
}
