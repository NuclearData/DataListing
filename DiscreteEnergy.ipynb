{
 "cells": [
  {
   "cell_type": "markdown",
   "metadata": {},
   "source": [
    "# Discrete-Energy Neutron Data\n",
    "\n",
    "These are materials that have a library type of `d`. \n",
    "\n",
    "## Listing\n",
    "To get a list of discrete-energy neutron data, execute the following cells. To execute, select the cell and press `CTRL-Enter`."
   ]
  },
  {
   "cell_type": "code",
   "execution_count": 1,
   "metadata": {},
   "outputs": [],
   "source": [
    "import listing\n",
    "XSDIR = listing.loadXSDIR()\n",
    "lib_type = 'd'\n",
    "display = listing.DisplayData(XSDIR, lib_type)"
   ]
  },
  {
   "cell_type": "code",
   "execution_count": 3,
   "metadata": {},
   "outputs": [
    {
     "data": {
      "text/html": [
       "<div>\n",
       "<style scoped>\n",
       "    .dataframe tbody tr th:only-of-type {\n",
       "        vertical-align: middle;\n",
       "    }\n",
       "\n",
       "    .dataframe tbody tr th {\n",
       "        vertical-align: top;\n",
       "    }\n",
       "\n",
       "    .dataframe thead th {\n",
       "        text-align: right;\n",
       "    }\n",
       "</style>\n",
       "<table border=\"1\" class=\"dataframe\">\n",
       "  <thead>\n",
       "    <tr style=\"text-align: right;\">\n",
       "      <th></th>\n",
       "      <th>ZAID</th>\n",
       "      <th>AWR</th>\n",
       "      <th>path</th>\n",
       "      <th>access</th>\n",
       "      <th>file_type</th>\n",
       "      <th>address</th>\n",
       "      <th>table_length</th>\n",
       "      <th>record_length</th>\n",
       "      <th>num_entries</th>\n",
       "      <th>temperature</th>\n",
       "      <th>...</th>\n",
       "      <th>length</th>\n",
       "      <th>NA</th>\n",
       "      <th>NE</th>\n",
       "      <th>representation</th>\n",
       "      <th>Emax</th>\n",
       "      <th>GPD</th>\n",
       "      <th>nubar</th>\n",
       "      <th>CP</th>\n",
       "      <th>DN</th>\n",
       "      <th>UR</th>\n",
       "    </tr>\n",
       "  </thead>\n",
       "  <tbody>\n",
       "    <tr>\n",
       "      <th>10056</th>\n",
       "      <td>1001.50d</td>\n",
       "      <td>0.99917</td>\n",
       "      <td>drmccs</td>\n",
       "      <td>0</td>\n",
       "      <td>1</td>\n",
       "      <td>1</td>\n",
       "      <td>3175</td>\n",
       "      <td>0</td>\n",
       "      <td>0</td>\n",
       "      <td>2.530000e-08</td>\n",
       "      <td>...</td>\n",
       "      <td>3175</td>\n",
       "      <td>0</td>\n",
       "      <td>0</td>\n",
       "      <td>0</td>\n",
       "      <td>0.0</td>\n",
       "      <td>False</td>\n",
       "      <td>0</td>\n",
       "      <td>False</td>\n",
       "      <td>False</td>\n",
       "      <td>False</td>\n",
       "    </tr>\n",
       "  </tbody>\n",
       "</table>\n",
       "<p>1 rows × 25 columns</p>\n",
       "</div>"
      ],
      "text/plain": [
       "           ZAID      AWR    path  access  file_type  address  table_length  \\\n",
       "10056  1001.50d  0.99917  drmccs       0          1        1          3175   \n",
       "\n",
       "       record_length  num_entries   temperature  ...  length NA NE  \\\n",
       "10056              0            0  2.530000e-08  ...    3175  0  0   \n",
       "\n",
       "      representation  Emax    GPD  nubar     CP     DN     UR  \n",
       "10056              0   0.0  False      0  False  False  False  \n",
       "\n",
       "[1 rows x 25 columns]"
      ]
     },
     "metadata": {},
     "output_type": "display_data"
    }
   ],
   "source": [
    "display(1001)"
   ]
  }
 ],
 "metadata": {
  "kernelspec": {
   "display_name": "Python 3",
   "language": "python",
   "name": "python3"
  },
  "language_info": {
   "codemirror_mode": {
    "name": "ipython",
    "version": 3
   },
   "file_extension": ".py",
   "mimetype": "text/x-python",
   "name": "python",
   "nbconvert_exporter": "python",
   "pygments_lexer": "ipython3",
   "version": "3.8.5"
  }
 },
 "nbformat": 4,
 "nbformat_minor": 4
}
